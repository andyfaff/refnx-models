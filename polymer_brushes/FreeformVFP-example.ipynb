{
 "cells": [
  {
   "cell_type": "code",
   "execution_count": null,
   "metadata": {},
   "outputs": [],
   "source": [
    "%matplotlib notebook\n",
    "\n",
    "import pickle\n",
    "import numpy as np\n",
    "import matplotlib.pyplot as plt\n",
    "\n",
    "from refnx.reflect import SLD, Slab, ReflectModel, MixedReflectModel\n",
    "from refnx.dataset import ReflectDataset as RD\n",
    "from refnx.analysis import Objective, CurveFitter, PDF, Parameter, process_chain, load_chain\n",
    "\n",
    "from FreeformVFP import FreeformVFP"
   ]
  },
  {
   "cell_type": "code",
   "execution_count": null,
   "metadata": {},
   "outputs": [],
   "source": [
    "# Version numbers allow you to repeat the analysis on your computer and obtain identical results.\n",
    "import refnx, scipy\n",
    "refnx.version.version, np.version.version, scipy.version.version"
   ]
  },
  {
   "cell_type": "markdown",
   "metadata": {},
   "source": [
    "# Load data\n",
    "Three datasets are included, pNIPAM at 25 °C, 32.5 °C and 40 °C. \n",
    "\n",
    "pNIPAM is thermoresponsive; the 25 °C is a swollen, diffuse layer, whilst the 40 °C data is a collapsed slab."
   ]
  },
  {
   "cell_type": "code",
   "execution_count": null,
   "metadata": {},
   "outputs": [],
   "source": [
    "data = RD(\"pNIPAM brush in d2o at 25C.dat\")\n",
    "# data = RD(\"pNIPAM brush in d2o at 32C.dat\")\n",
    "# data = RD(\"pNIPAM brush in d2o at 40C.dat\")"
   ]
  },
  {
   "cell_type": "markdown",
   "metadata": {},
   "source": [
    "# Define materials and slab components\n",
    "\n",
    "For simplicity some parameters that may normally have been allowed to vary have been set to predetermined optimum values."
   ]
  },
  {
   "cell_type": "code",
   "execution_count": null,
   "metadata": {},
   "outputs": [],
   "source": [
    "si = SLD(2.07, 'si')\n",
    "sio2 = SLD(2.9, 'sio2')\n",
    "d2o = SLD(6.23 , 'd2o')\n",
    "polymer = SLD(0.81, 'polymer')\n",
    "\n",
    "si_l = si(0, 0)\n",
    "sio2_l = sio2(20, 4.8)\n",
    "d2o_l = d2o(0, 0)"
   ]
  },
  {
   "cell_type": "markdown",
   "metadata": {},
   "source": [
    "# Create the freeform component"
   ]
  },
  {
   "cell_type": "code",
   "execution_count": null,
   "metadata": {},
   "outputs": [],
   "source": [
    "NUM_KNOTS = 4\n",
    "\n",
    "#Polymer layer 1\n",
    "polymer_0 = polymer(2, 0.5)\n",
    "\n",
    "# Polymer-Solvent interface (spline)\n",
    "polymer_vfp = FreeformVFP(adsorbed_amount=120,\n",
    "                          vff=[0.6] * NUM_KNOTS,\n",
    "                          dzf=[1/(NUM_KNOTS + 1)] * (NUM_KNOTS + 1),\n",
    "                          polymer_sld=polymer, \n",
    "                          name='freeform vfp',\n",
    "                          left_slabs=[polymer_0])"
   ]
  },
  {
   "cell_type": "markdown",
   "metadata": {},
   "source": [
    "# Set parameter bounds"
   ]
  },
  {
   "cell_type": "code",
   "execution_count": null,
   "metadata": {},
   "outputs": [],
   "source": [
    "sio2.real.setp(vary=True, bounds=(2.8, 3.47))\n",
    "\n",
    "polymer_0.thick.setp(vary=True, bounds=(2, 20))\n",
    "polymer_0.vfsolv.setp(vary=True, bounds=(0.1, 0.7))\n",
    "\n",
    "polymer_vfp.adsorbed_amount.setp(vary=True, bounds=(100, 130))\n",
    "\n",
    "\n",
    "# We can enforce monotonicity through the bounds we place on the fractional volume fraction changes.\n",
    "enforce_mono = True\n",
    "\n",
    "if enforce_mono:\n",
    "    bounds = (0.1, 1)\n",
    "else:\n",
    "    bounds = (0.1, 1.5)\n",
    "\n",
    "# Here we set the bounds on the knot locations\n",
    "for idx in range(NUM_KNOTS):\n",
    "    polymer_vfp.vff[idx].setp(vary=True, bounds=bounds)\n",
    "    polymer_vfp.dzf[idx].setp(vary=True, bounds=(0.05, 1))\n",
    "\n",
    "polymer_vfp.dzf[-1].setp(vary=True, bounds=(0.05, 1))\n",
    "\n",
    "polymer_vfp.dzf[0].setp(vary=True, bounds=(0.005, 1))"
   ]
  },
  {
   "cell_type": "markdown",
   "metadata": {},
   "source": [
    "# Create the structure, model, objective"
   ]
  },
  {
   "cell_type": "code",
   "execution_count": null,
   "metadata": {},
   "outputs": [],
   "source": [
    "structure =  si_l | sio2_l | polymer_0 | polymer_vfp | d2o_l\n",
    "\n",
    "# contracting the slab representation reduces computation time.\n",
    "structure.contract = 1.5\n",
    "\n",
    "model = ReflectModel(structure)\n",
    "model.bkg.setp(vary=True, bounds=(1e-6, 1e-5))\n",
    "objective = Objective(model, data)"
   ]
  },
  {
   "cell_type": "code",
   "execution_count": null,
   "metadata": {},
   "outputs": [],
   "source": [
    "fitter= CurveFitter(objective)\n",
    "fitter.fit('differential_evolution');"
   ]
  },
  {
   "cell_type": "code",
   "execution_count": null,
   "metadata": {},
   "outputs": [],
   "source": [
    "fig, [ax_vfp, ax_sld, ax_refl] = plt.subplots(1, 3, figsize=(10,3), dpi=90)\n",
    "z = np.linspace(-50, 1750, 2000)\n",
    "\n",
    "ax_vfp.plot(*polymer_vfp.profile())\n",
    "ax_sld.plot(*structure.sld_profile(z))\n",
    "ax_refl.plot(data.x, objective.generative())\n",
    "ax_refl.errorbar(data.x, data.y, yerr=data.y_err)\n",
    "\n",
    "ax_refl.set_yscale('log')\n",
    "\n",
    "fig.tight_layout()"
   ]
  },
  {
   "cell_type": "code",
   "execution_count": null,
   "metadata": {},
   "outputs": [],
   "source": []
  }
 ],
 "metadata": {
  "kernelspec": {
   "display_name": "Python 3",
   "language": "python",
   "name": "python3"
  },
  "language_info": {
   "codemirror_mode": {
    "name": "ipython",
    "version": 3
   },
   "file_extension": ".py",
   "mimetype": "text/x-python",
   "name": "python",
   "nbconvert_exporter": "python",
   "pygments_lexer": "ipython3",
   "version": "3.7.7"
  }
 },
 "nbformat": 4,
 "nbformat_minor": 2
}
