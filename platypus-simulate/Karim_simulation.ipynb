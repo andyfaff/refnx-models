{
 "cells": [
  {
   "cell_type": "code",
   "execution_count": null,
   "metadata": {},
   "outputs": [],
   "source": [
    "import os\n",
    "# pyopencl will use the GPU on my Macbook Pro\n",
    "os.environ['PYOPENCL_CTX'] = '1:2'"
   ]
  },
  {
   "cell_type": "code",
   "execution_count": null,
   "metadata": {},
   "outputs": [],
   "source": [
    "%matplotlib inline\n",
    "import numpy as np\n",
    "import matplotlib.pyplot as plt\n",
    "from refnx.reflect import SLD, Structure, ReflectModel, use_reflect_backend\n",
    "from refnx.analysis import Parameter, Objective, CurveFitter\n",
    "from refnx.dataset import ReflectDataset\n",
    "from tof_simulator import ReflectSimulator\n",
    "from parabolic_brush import ParabolicBrush"
   ]
  },
  {
   "cell_type": "code",
   "execution_count": null,
   "metadata": {},
   "outputs": [],
   "source": [
    "si = SLD(2.07)\n",
    "sio2 = SLD(3.47)\n",
    "dtol = SLD(5.6)\n",
    "polymer = SLD(1.4)\n",
    "\n",
    "# adsorbed amount\n",
    "gamma = Parameter(95., 'adsorbed amount')\n",
    "# roughness between brush and preceding layer\n",
    "lrough = Parameter(10., 'left roughness')\n",
    "\n",
    "# same brush as that in Karim1994.\n",
    "brush = ParabolicBrush(polymer, 0.175, gamma, 1.0, 150, lrough, microslab_max_thickness=1)"
   ]
  },
  {
   "cell_type": "code",
   "execution_count": null,
   "metadata": {},
   "outputs": [],
   "source": [
    "z = np.linspace(0, 1000, 1001)\n",
    "vfp = brush.volume_fraction(z)\n",
    "plt.plot(z, vfp);"
   ]
  },
  {
   "cell_type": "code",
   "execution_count": null,
   "metadata": {},
   "outputs": [],
   "source": [
    "s = si | sio2(15, 3) | brush | dtol(0, 3)\n",
    "s.contract = 1.5\n",
    "model = ReflectModel(s, bkg=5e-7, dq=4.97)"
   ]
  },
  {
   "cell_type": "code",
   "execution_count": null,
   "metadata": {},
   "outputs": [],
   "source": [
    "a0 = ReflectSimulator(model, 0.8, rebin=2.5)\n",
    "a1 = ReflectSimulator(model, 3.5, rebin=2.5)"
   ]
  },
  {
   "cell_type": "code",
   "execution_count": null,
   "metadata": {},
   "outputs": [],
   "source": [
    "with use_reflect_backend('pyopencl'):\n",
    "    a0.run(8000000)\n",
    "    for i in range(700):\n",
    "        a1.run(1000000)\n",
    "        if not i % 50:\n",
    "            print(i)"
   ]
  },
  {
   "cell_type": "code",
   "execution_count": null,
   "metadata": {},
   "outputs": [],
   "source": [
    "d0 = a0.reflectivity\n",
    "d1 = a1.reflectivity\n",
    "d0 += d1"
   ]
  },
  {
   "cell_type": "code",
   "execution_count": null,
   "metadata": {},
   "outputs": [],
   "source": [
    "# set resolution of model (for constant dq/q smearing)\n",
    "model.dq.value = np.mean(d0.x_err / d0.x) * 100"
   ]
  },
  {
   "cell_type": "code",
   "execution_count": null,
   "metadata": {},
   "outputs": [],
   "source": [
    "d0.save('karim_simulation.dat')\n",
    "plt.plot(d0.x, d0.y)\n",
    "plt.plot(d0.x, model(d0.x))\n",
    "plt.yscale('log')\n",
    "plt.xscale('log');\n",
    "# plt.xlim(0.01, 0.02)\n",
    "# plt.ylim(0.1, 1.1);"
   ]
  },
  {
   "cell_type": "code",
   "execution_count": null,
   "metadata": {},
   "outputs": [],
   "source": [
    "plt.plot(d0.x, (d0.y - model(d0.x))/d0.y_err)\n",
    "plt.xscale('log')"
   ]
  },
  {
   "cell_type": "code",
   "execution_count": null,
   "metadata": {},
   "outputs": [],
   "source": [
    "d0 = ReflectDataset('karim_simulation.dat')"
   ]
  },
  {
   "cell_type": "code",
   "execution_count": null,
   "metadata": {},
   "outputs": [],
   "source": [
    "import FreeformVFP"
   ]
  },
  {
   "cell_type": "code",
   "execution_count": null,
   "metadata": {},
   "outputs": [],
   "source": [
    "# a left slab for an interior layer\n",
    "# we use such a layer to make a roughness between it and\n",
    "# the preceding layer\n",
    "lslab = polymer(thick=20, rough=lrough)\n",
    "lslab.vfsolv.value = 0.5\n",
    "\n",
    "fvp = FreeformVFP.FreeformVFP(95, [0.5, 0.5, 0.5], [0.1, 0.01, 0.01, 0.01], polymer, left_slabs=[lslab])"
   ]
  },
  {
   "cell_type": "code",
   "execution_count": null,
   "metadata": {},
   "outputs": [],
   "source": [
    "# create a modelling structure using our FreeformVFP\n",
    "s1 = si | sio2(10, 2) | lslab | fvp | dtol(0, 2)\n",
    "\n",
    "# use profile contraction for speedier calculation\n",
    "s1.contract = 1.5\n",
    "\n",
    "# and a model\n",
    "model1 = ReflectModel(s1, scale=1, bkg=1e-6, dq_type='constant')\n",
    "model1.dq = np.mean(d0.x_err / d0.x) * 100\n",
    "\n",
    "objective = Objective(model1, d0)"
   ]
  },
  {
   "cell_type": "code",
   "execution_count": null,
   "metadata": {},
   "outputs": [],
   "source": [
    "plt.plot(*fvp.profile(), label='starting point of FreeformVFP analysis')\n",
    "plt.plot(z, vfp, label='Karim profile')\n",
    "plt.legend()"
   ]
  },
  {
   "cell_type": "code",
   "execution_count": null,
   "metadata": {},
   "outputs": [],
   "source": [
    "objective.plot()\n",
    "plt.yscale('log')"
   ]
  },
  {
   "cell_type": "code",
   "execution_count": null,
   "metadata": {},
   "outputs": [],
   "source": [
    "objective.logp()"
   ]
  },
  {
   "cell_type": "code",
   "execution_count": null,
   "metadata": {},
   "outputs": [],
   "source": [
    "# set some fitting parameters and bounds\n",
    "# sio2 layer\n",
    "s1[1].thick.setp(vary=True, bounds=(5, 20))\n",
    "s1[1].rough.setp(vary=True, bounds=(1, 6))\n",
    "\n",
    "# the interior slab layer\n",
    "lslab.thick.setp(vary=True, bounds=(15, 30))\n",
    "lslab.rough.setp(vary=True, bounds=(1, 15))\n",
    "lslab.vfsolv.setp(vary=True, bounds=(0, 1))\n",
    "\n",
    "# set limits on knot spacing:\n",
    "for p in fvp.dzf:\n",
    "    p.setp(vary=True, bounds=(0.01, 0.3))\n",
    "\n",
    "# set limits on vf:\n",
    "for p in fvp.vff:\n",
    "    p.setp(vary=True, bounds=(0.05, 0.8))\n",
    "\n",
    "# set limits on adsorbed amount (use +/- ~5%)\n",
    "fvp.adsorbed_amount.setp(vary=True, bounds=(92, 98))\n",
    "\n",
    "# roughness of d2o/brush (probably won't be sensitive to this)\n",
    "s1[-1].rough.setp(vary=True, bounds=(1, 5))\n",
    "\n",
    "model1.scale.setp(vary=True, bounds=(0.95, 1.05))\n",
    "model1.bkg.setp(vary=True, bounds=(1e-8, 1e-6))"
   ]
  },
  {
   "cell_type": "code",
   "execution_count": null,
   "metadata": {},
   "outputs": [],
   "source": [
    "fitter = CurveFitter(objective)"
   ]
  },
  {
   "cell_type": "code",
   "execution_count": null,
   "metadata": {},
   "outputs": [],
   "source": [
    "fitter.fit('differential_evolution', target='nlpost');"
   ]
  },
  {
   "cell_type": "code",
   "execution_count": null,
   "metadata": {
    "scrolled": true
   },
   "outputs": [],
   "source": [
    "objective.plot()\n",
    "plt.yscale('log')\n",
    "plt.xscale('log')"
   ]
  },
  {
   "cell_type": "code",
   "execution_count": null,
   "metadata": {},
   "outputs": [],
   "source": [
    "model1.threads = 1\n",
    "fitter.initialise(pos='jitter')\n",
    "fitter.sample(1000);"
   ]
  },
  {
   "cell_type": "code",
   "execution_count": null,
   "metadata": {},
   "outputs": [],
   "source": [
    "fitter.reset()\n",
    "fitter.sample(5, nthin=500);"
   ]
  },
  {
   "cell_type": "code",
   "execution_count": null,
   "metadata": {},
   "outputs": [],
   "source": [
    "plt.plot(*fvp.profile(), label='ending point of FreeformVFP analysis')\n",
    "plt.plot(z, vfp, label='Karim profile')\n",
    "plt.legend();"
   ]
  },
  {
   "cell_type": "code",
   "execution_count": null,
   "metadata": {},
   "outputs": [],
   "source": [
    "plt.plot(d0.x, (d0.y - model(d0.x))/d0.y_err)\n",
    "plt.xscale('log')"
   ]
  },
  {
   "cell_type": "code",
   "execution_count": null,
   "metadata": {},
   "outputs": [],
   "source": []
  }
 ],
 "metadata": {
  "kernelspec": {
   "display_name": "Python 3",
   "language": "python",
   "name": "python3"
  },
  "language_info": {
   "codemirror_mode": {
    "name": "ipython",
    "version": 3
   },
   "file_extension": ".py",
   "mimetype": "text/x-python",
   "name": "python",
   "nbconvert_exporter": "python",
   "pygments_lexer": "ipython3",
   "version": "3.8.2"
  }
 },
 "nbformat": 4,
 "nbformat_minor": 2
}
