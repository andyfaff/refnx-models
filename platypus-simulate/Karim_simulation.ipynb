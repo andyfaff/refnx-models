{
 "cells": [
  {
   "cell_type": "code",
   "execution_count": null,
   "metadata": {},
   "outputs": [],
   "source": [
    "%matplotlib notebook\n",
    "import numpy as np\n",
    "import matplotlib.pyplot as plt\n",
    "from refnx.reflect import SLD, Structure, ReflectModel\n",
    "from refnx.dataset import ReflectDataset\n",
    "from tof_simulator import ReflectSimulator\n",
    "from parabolic_brush import ParabolicBrush"
   ]
  },
  {
   "cell_type": "code",
   "execution_count": null,
   "metadata": {},
   "outputs": [],
   "source": [
    "si = SLD(2.07)\n",
    "sio2 = SLD(3.47)\n",
    "dtol = SLD(5.6)\n",
    "# same brush as that in Karim1994.\n",
    "brush = ParabolicBrush(1.4, 0.175, 95, 1.0, 150, 10, microslab_max_thickness=3)"
   ]
  },
  {
   "cell_type": "code",
   "execution_count": null,
   "metadata": {},
   "outputs": [],
   "source": [
    "s = si | sio2(15, 3) | brush | dtol(0, 3)\n",
    "s.contract = 1\n",
    "model = ReflectModel(s, bkg=5e-7)"
   ]
  },
  {
   "cell_type": "code",
   "execution_count": null,
   "metadata": {},
   "outputs": [],
   "source": [
    "a0 = ReflectSimulator(model, 0.8, rebin=2.5)\n",
    "a1 = ReflectSimulator(model, 3.5, rebin=2.5)"
   ]
  },
  {
   "cell_type": "code",
   "execution_count": null,
   "metadata": {},
   "outputs": [],
   "source": [
    "a0.run(7000000)\n",
    "for i in range(500):\n",
    "    a1.run(1000000)"
   ]
  },
  {
   "cell_type": "code",
   "execution_count": null,
   "metadata": {},
   "outputs": [],
   "source": [
    "d0 = a0.reflectivity\n",
    "d1 = a1.reflectivity\n",
    "d0 += d1"
   ]
  },
  {
   "cell_type": "code",
   "execution_count": null,
   "metadata": {},
   "outputs": [],
   "source": [
    "d0 = ReflectDataset('karim_simulation.dat')\n",
    "d0.plot()\n",
    "plt.yscale('log')\n",
    "plt.xscale('log')"
   ]
  },
  {
   "cell_type": "code",
   "execution_count": null,
   "metadata": {},
   "outputs": [],
   "source": [
    "plt.plot(d0.x, d0.y)\n",
    "plt.plot(d0.x, model(d0.x, x_err=d0.x_err))\n",
    "plt.yscale('log')\n",
    "plt.xscale('log')\n",
    "# plt.xlim(0.01, 0.07)"
   ]
  },
  {
   "cell_type": "code",
   "execution_count": null,
   "metadata": {},
   "outputs": [],
   "source": [
    "d0.save('karim_simulation.dat')"
   ]
  }
 ],
 "metadata": {
  "kernelspec": {
   "display_name": "Python 3",
   "language": "python",
   "name": "python3"
  },
  "language_info": {
   "codemirror_mode": {
    "name": "ipython",
    "version": 3
   },
   "file_extension": ".py",
   "mimetype": "text/x-python",
   "name": "python",
   "nbconvert_exporter": "python",
   "pygments_lexer": "ipython3",
   "version": "3.8.1"
  }
 },
 "nbformat": 4,
 "nbformat_minor": 2
}
