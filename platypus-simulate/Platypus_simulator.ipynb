{
 "cells": [
  {
   "cell_type": "markdown",
   "metadata": {},
   "source": [
    "# Simulator for *PLATYPUS* and *SPATZ*\n",
    "\n",
    "The purpose of this notebook is to simulate a measurement on one of these two instruments at ACNS. Its deficiency is that it doesn't take into account systematic errors (such as misalignment, gravity effects) and can't do background subtractions. The latter is done during an experiment to decrease $R_{min}$, which has the effect of increasing error bar size."
   ]
  },
  {
   "cell_type": "code",
   "execution_count": 1,
   "metadata": {},
   "outputs": [],
   "source": [
    "%matplotlib inline\n",
    "import numpy as np\n",
    "import matplotlib.pyplot as plt\n",
    "\n",
    "from tof_simulator import ReflectSimulator, SpectrumDist\n",
    "\n",
    "from refnx.reflect import Slab, Structure, SLD, ReflectModel\n",
    "from refnx.dataset import ReflectDataset"
   ]
  },
  {
   "cell_type": "markdown",
   "metadata": {},
   "source": [
    "Since *PLATYPUS* and *SPATZ* are time-of-flight instruments it's necessary to have a wavelength spectrum to be able to generate neutrons of different wavelength onto the sample. We take a direct beam spectrum and convert it into a probability distribution"
   ]
  },
  {
   "cell_type": "markdown",
   "metadata": {},
   "source": [
    "The `SpectrumDist` object is a `scipy.stats` like object to describe the neutron intensity as a function of wavelength. You can use the `pdf, cdf, ppf, rvs` methods like you would a `scipy.stats` distribution. Of particular interest is the `rvs` method which randomly samples neutrons whose distribution obeys the direct beam spectrum. Random variates are generated the `rv_continuous` superclass by classical generation of uniform noise coupled with the `ppf`. `ppf` is approximated by linear interpolation of `q` into a pre-calculated inverse `cdf`. "
   ]
  },
  {
   "cell_type": "markdown",
   "metadata": {},
   "source": [
    "The `ReflectSimulator` class generates neutrons whose distribution follows the wavelength and angular resolution of the instrument. If uses those neutrons to calculate a reflectivity pattern based on a user supplied `ReflectModel`. The resolution properties of `ReflectModel` are ignored."
   ]
  },
  {
   "cell_type": "markdown",
   "metadata": {},
   "source": [
    "Generate the structure you want to simulate:"
   ]
  },
  {
   "cell_type": "code",
   "execution_count": 2,
   "metadata": {},
   "outputs": [],
   "source": [
    "air = SLD(0)\n",
    "sio2 = SLD(3.47)\n",
    "si = SLD(2.07)\n",
    "\n",
    "s = air | sio2(225, 3) | si(0, 3)\n",
    "model = ReflectModel(s, bkg=5e-7)"
   ]
  },
  {
   "cell_type": "markdown",
   "metadata": {},
   "source": [
    "Create the instrument simulator and sample. Here we sample at two angles of incidence. This would correspond to *roughly* 1200 s and 3600 s on Platypus. It's possible that the acquisition time/# of samples correspondence is up to an order of magnitude out."
   ]
  },
  {
   "cell_type": "code",
   "execution_count": 3,
   "metadata": {},
   "outputs": [
    {
     "name": "stderr",
     "output_type": "stream",
     "text": [
      "/Users/andrew/miniconda3/envs/dev3/lib/python3.7/site-packages/refnx/reduce/platypusnexus.py:281: RuntimeWarning: Setting default pixel size to 1.177\n",
      "  RuntimeWarning)\n"
     ]
    }
   ],
   "source": [
    "simulator0 = ReflectSimulator(model, 0.65, rebin=2)\n",
    "simulator1 = ReflectSimulator(model, 3, rebin=2)"
   ]
  },
  {
   "cell_type": "code",
   "execution_count": 8,
   "metadata": {},
   "outputs": [],
   "source": [
    "simulator0.run(2400000)\n",
    "simulator1.run(150000000)"
   ]
  },
  {
   "cell_type": "markdown",
   "metadata": {},
   "source": [
    "The `ReflectSimulator.reflectivity` attribute is a `ReflectDataset`, which can have additional data spliced onto it."
   ]
  },
  {
   "cell_type": "code",
   "execution_count": 9,
   "metadata": {},
   "outputs": [],
   "source": [
    "data = ReflectDataset()\n",
    "data += simulator0.reflectivity\n",
    "data += simulator1.reflectivity\n",
    "data.save('sim.txt')"
   ]
  },
  {
   "cell_type": "code",
   "execution_count": 37,
   "metadata": {},
   "outputs": [
    {
     "data": {
      "image/png": "[encoded data removed]",
      "text/plain": [
       "<Figure size 432x288 with 1 Axes>"
      ]
     },
     "metadata": {
      "needs_background": "light"
     },
     "output_type": "display_data"
    }
   ],
   "source": [
    "ebc = plt.errorbar(data.x, data.y, yerr=data.y_err)\n",
    "ebc[0].set_linewidth(0)\n",
    "plt.plot(data.x, model(data.x, x_err=data.x_err))\n",
    "plt.yscale('log')"
   ]
  },
  {
   "cell_type": "code",
   "execution_count": null,
   "metadata": {},
   "outputs": [],
   "source": []
  }
 ],
 "metadata": {
  "kernelspec": {
   "display_name": "Python 3",
   "language": "python",
   "name": "python3"
  },
  "language_info": {
   "codemirror_mode": {
    "name": "ipython",
    "version": 3
   },
   "file_extension": ".py",
   "mimetype": "text/x-python",
   "name": "python",
   "nbconvert_exporter": "python",
   "pygments_lexer": "ipython3",
   "version": "3.7.5"
  }
 },
 "nbformat": 4,
 "nbformat_minor": 1
}
