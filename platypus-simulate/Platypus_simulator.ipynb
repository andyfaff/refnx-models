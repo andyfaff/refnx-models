{
 "cells": [
  {
   "cell_type": "markdown",
   "metadata": {},
   "source": [
    "# Simulator for *PLATYPUS* and *SPATZ*\n",
    "\n",
    "The purpose of this notebook is to simulate a measurement on one of these two instruments at ACNS. Its deficiency is that it doesn't take into account systematic errors (such as misalignment, gravity effects) and can't do background subtractions. The latter is done during an experiment to decrease $R_{min}$, which has the effect of increasing error bar size."
   ]
  },
  {
   "cell_type": "code",
   "execution_count": 1,
   "metadata": {},
   "outputs": [],
   "source": [
    "%matplotlib inline\n",
    "import numpy as np\n",
    "import matplotlib.pyplot as plt\n",
    "from scipy.integrate import simps\n",
    "from scipy.interpolate import InterpolatedUnivariateSpline as IUS\n",
    "from scipy.stats import rv_continuous, trapz\n",
    "from scipy.optimize import brentq\n",
    "\n",
    "from refnx.reduce import PlatypusNexus as PN\n",
    "from refnx.reduce.platypusnexus import calculate_wavelength_bins\n",
    "from refnx.util import general, ErrorProp\n",
    "from refnx.reflect import Slab, Structure, SLD, ReflectModel\n",
    "from refnx.dataset import ReflectDataset"
   ]
  },
  {
   "cell_type": "markdown",
   "metadata": {},
   "source": [
    "Since *PLATYPUS* and *SPATZ* are time-of-flight instruments it's necessary to have a wavelength spectrum to be able to generate neutrons of different wavelength onto the sample. We take a direct beam spectrum and convert it into a probability distribution"
   ]
  },
  {
   "cell_type": "code",
   "execution_count": 2,
   "metadata": {},
   "outputs": [
    {
     "name": "stderr",
     "output_type": "stream",
     "text": [
      "/Users/anz/miniconda3/envs/dev3/lib/python3.7/site-packages/refnx/reduce/platypusnexus.py:281: RuntimeWarning: Setting default pixel size to 1.177\n",
      "  RuntimeWarning)\n"
     ]
    },
    {
     "data": {
      "image/png": "[encoded data removed]",
      "text/plain": [
       "<Figure size 432x288 with 1 Axes>"
      ]
     },
     "metadata": {
      "needs_background": "light"
     },
     "output_type": "display_data"
    }
   ],
   "source": [
    "a = PN('PLP0000711.nx.hdf')\n",
    "q, i, di=a.process(normalise=False, normalise_bins=False, rebin_percent=0, lo_wavelength=0, hi_wavelength=22)\n",
    "q = q.squeeze(); \n",
    "i = i.squeeze();\n",
    "di = di.squeeze()\n",
    "area = simps(i, q)\n",
    "i /= area\n",
    "di /= area\n",
    "plt.plot(q, i)\n",
    "plt.yscale('log')\n",
    "# plt.ylim(0, 1000)"
   ]
  },
  {
   "cell_type": "markdown",
   "metadata": {},
   "source": [
    "The `SpectrumDist` object is a `scipy.stats` like object to describe the neutron intensity as a function of wavelength. You can use the `pdf, cdf, ppf, rvs` methods like you would a `scipy.stats` distribution. Of particular interest is the `rvs` method which randomly samples neutrons whose distribution obeys the direct beam spectrum. Random variates are generated the `rv_continuous` superclass by classical generation of uniform noise coupled with the `ppf`. `ppf` is approximated by linear interpolation of `q` into a pre-calculated inverse `cdf`. "
   ]
  },
  {
   "cell_type": "code",
   "execution_count": 3,
   "metadata": {},
   "outputs": [],
   "source": [
    "class SpectrumDist(rv_continuous):\n",
    "    def __init__(self, x, y):\n",
    "        super(SpectrumDist, self).__init__(a=np.min(x), b=np.max(x))\n",
    "        self._x = x\n",
    "        \n",
    "        # normalise the distribution\n",
    "        area = simps(y, x)\n",
    "        y /= area\n",
    "        self._y = y\n",
    "        \n",
    "        # an InterpolatedUnivariate spline models the spectrum\n",
    "        self.spl = IUS(x, y)\n",
    "        \n",
    "        # fudge_factor required because integral of the spline is not exactly 1\n",
    "        self.fudge_factor = self.spl.integral(self.a, self.b)\n",
    "\n",
    "        # calculate a gridded and sampled version of the CDF.\n",
    "        # this can be used with interpolation for quick calculation\n",
    "        # of ppf (necessary for quick rvs)\n",
    "        self._x_interpolated_cdf = np.linspace(np.min(x), np.max(x), 1000)\n",
    "        self._interpolated_cdf = self.cdf(self._x_interpolated_cdf)\n",
    "\n",
    "    def _pdf(self, x):\n",
    "        return self.spl(x) / self.fudge_factor\n",
    "\n",
    "    def _cdf(self, x):\n",
    "        xflat = x.ravel()\n",
    "\n",
    "        f = lambda x: self.spl.integral(self.a, x) / self.fudge_factor\n",
    "        v = map(f, xflat)\n",
    "\n",
    "        r = np.fromiter(v, dtype=float).reshape(x.shape) \n",
    "        return r\n",
    "\n",
    "    def _f(self, x, qq):\n",
    "        return self._cdf(x) - qq\n",
    "\n",
    "    def _g(self, qq, *args):\n",
    "        return brentq(self._f, self._a, self._b, args=(qq,) + args)\n",
    "        \n",
    "    def _ppf(self, q, *args):\n",
    "        qflat = q.ravel()\n",
    "        \"\"\"\n",
    "        _a, _b = self._get_support(*args)\n",
    "    \n",
    "        def f(x, qq):\n",
    "            return self._cdf(x) - qq\n",
    "\n",
    "        def g(qq):\n",
    "            return brentq(f, _a, _b, args=(qq,) + args, xtol=1e-3)\n",
    "\n",
    "        v = map(g, qflat)\n",
    "\n",
    "        cdf = _CDF(self.spl, self.fudge_factor, _a, _b)\n",
    "        g = _G(cdf)\n",
    "\n",
    "        with Pool() as p:\n",
    "            v = p.map(g, qflat)\n",
    "            r = np.fromiter(v, dtype=float).reshape(q.shape)\n",
    "        \"\"\"\n",
    "        # approximate the ppf using a sampled+interpolated CDF\n",
    "        # the commented out methods are more accurate, but are at least\n",
    "        # 3 orders of magnitude slower.\n",
    "        r = np.interp(qflat,\n",
    "                      self._interpolated_cdf,\n",
    "                      self._x_interpolated_cdf)\n",
    "        return r.reshape(q.shape)\n",
    "\n",
    "\n",
    "# for parallelisation (can't pickle rv_continuous all that easily)\n",
    "class _CDF(object):\n",
    "    def __init__(self, spl, fudge_factor, a, b):\n",
    "        self.a = a\n",
    "        self.b = b\n",
    "        self.spl = spl\n",
    "        self.fudge_factor = fudge_factor\n",
    "\n",
    "    def __call__(self, x):\n",
    "        return self.spl.integral(self.a, x) / self.fudge_factor\n",
    "\n",
    "class _G(object):\n",
    "    def __init__(self, cdf):\n",
    "        self.cdf = cdf\n",
    "\n",
    "    def _f(self, x, qq):\n",
    "        return self.cdf(x) - qq\n",
    "\n",
    "    def __call__(self, q):\n",
    "        return brentq(self._f, self.cdf.a, self.cdf.b, args=(q,), xtol=1e-4)"
   ]
  },
  {
   "cell_type": "markdown",
   "metadata": {},
   "source": [
    "The `ReflectSimulator` class generates neutrons whose distribution follows the wavelength and angular resolution of the instrument. If uses those neutrons to calculate a reflectivity pattern based on a user supplied `ReflectModel`. The resolution properties of `ReflectModel` are ignored."
   ]
  },
  {
   "cell_type": "code",
   "execution_count": 4,
   "metadata": {},
   "outputs": [],
   "source": [
    "class ReflectSimulator(object):\n",
    "    \"\"\"\n",
    "    Simulate a reflectivity pattern from PLATYPUS.\n",
    "\n",
    "    Parameters\n",
    "    ----------\n",
    "    model: refnx.reflect.ReflectModel\n",
    "    \n",
    "    angle: float\n",
    "        Angle of incidence (degrees)\n",
    "\n",
    "    L12: float\n",
    "        distance between collimation slits (mm)\n",
    "\n",
    "    footprint: float\n",
    "        beam footprint onto the sample (mm)\n",
    "\n",
    "    L2S: float\n",
    "        distance from pre-sample slit to sample (mm)\n",
    "\n",
    "    dtheta: float\n",
    "        Angular resolution expressed as a percentage\n",
    "\n",
    "    lo_wavelength: float\n",
    "        smallest wavelength used from the generated neutron spectrum\n",
    "\n",
    "    hi_wavelength: float\n",
    "        longest wavelength used from the generated neutron spectrum\n",
    "\n",
    "    dlambda: float\n",
    "        Wavelength resolution expressed as a percentage. dlambda=3.3\n",
    "        corresponds to using disk choppers 1+3 on *PLATYPUS*.\n",
    "\n",
    "    rebin: float\n",
    "        Rebinning expressed as a percentage.\n",
    "\n",
    "    Notes\n",
    "    -----\n",
    "    Angular, chopper and rebin smearing effects are all taken into account.\n",
    "    \"\"\"\n",
    "\n",
    "    def __init__(self, model, angle,\n",
    "                 L12=2859, footprint=60, L2S=120, dtheta=3.3, # angular resolution\n",
    "                 lo_wavelength=2.8, hi_wavelength=18,\n",
    "                 dlambda=3.3, rebin=2):\n",
    "        self.model = model\n",
    "        \n",
    "        # turn off resolution smearing\n",
    "        self.model.dq = 0\n",
    "        self.bkg = model.bkg.value\n",
    "        self.angle = angle\n",
    "\n",
    "        # the fractional width of a square wavelength resolution\n",
    "        self.dlambda = dlambda / 100.\n",
    "        self.rebin = rebin / 100.\n",
    "        self.wavelength_bins = calculate_wavelength_bins(lo_wavelength,\n",
    "                                                         hi_wavelength,\n",
    "                                                         rebin)\n",
    "        # nominal Q values\n",
    "        bin_centre = 0.5 * (self.wavelength_bins[1:] + self.wavelength_bins[:-1])\n",
    "        self.q = general.q(angle, bin_centre)\n",
    "\n",
    "        # keep a tally of the direct and reflected beam\n",
    "        self.direct_beam = np.zeros((self.wavelength_bins.size - 1))\n",
    "        self.reflected_beam = np.zeros((self.wavelength_bins.size - 1))\n",
    "\n",
    "        # wavelength generator\n",
    "        a = PN('PLP0000711.nx.hdf')\n",
    "        q, i, di = a.process(normalise=False, normalise_bins=False,\n",
    "                             rebin_percent=0, lo_wavelength=lo_wavelength,\n",
    "                             hi_wavelength=hi_wavelength)\n",
    "        q = q.squeeze(); \n",
    "        i = i.squeeze();\n",
    "        self.spectrum_dist = SpectrumDist(q, i)\n",
    "\n",
    "        # angular resolution generator, based on a trapezoidal distribution\n",
    "        # The slit settings are the optimised set typically used in an\n",
    "        # experiment\n",
    "        self.dtheta = dtheta / 100.\n",
    "        self.footprint = footprint\n",
    "        s1, s2 = general.slit_optimiser(footprint, self.dtheta, angle=angle,\n",
    "                                        L2S=L2S, L12=L12, verbose=False)\n",
    "        div, alpha, beta = general.div(s1, s2, L12=L12)\n",
    "        self.angular_dist = trapz(c=(alpha - beta)/2./alpha,\n",
    "                                  d=(alpha + beta)/2./alpha,\n",
    "                                  loc=-alpha,\n",
    "                                  scale=2 * alpha)\n",
    "\n",
    "    def run(self, samples):\n",
    "        \"\"\"\n",
    "        Sample the beam.\n",
    "        \n",
    "        2400000 samples roughly corresponds to 1200 sec of *PLATYPUS* using\n",
    "        dlambda=3.3 and dtheta=3.3 at angle=0.65.\n",
    "        150000000 samples roughly corresponds to 3600 sec of *PLATYPUS* using\n",
    "        dlambda=3.3 and dtheta=3.3 at angle=3.0.\n",
    "        \n",
    "        (The sample number <--> actual acquisition time correspondence has\n",
    "         not been checked fully)\n",
    "        \n",
    "        Parameters\n",
    "        ----------\n",
    "        samples: int\n",
    "            How many samples to run.\n",
    "        \"\"\"\n",
    "        # generate neutrons of different angular divergence\n",
    "        angles = self.angular_dist.rvs(samples) + self.angle\n",
    "        \n",
    "        # generate neutrons of various wavelengths\n",
    "        wavelengths = self.spectrum_dist.rvs(size=samples)\n",
    "        \n",
    "        # calculate Q\n",
    "        q = general.q(angles, wavelengths)\n",
    "\n",
    "        # calculate reflectivities for a neutron of a given Q.\n",
    "        r = self.model(q)\n",
    "\n",
    "        # accept or reject neutrons based on the reflectivity of\n",
    "        # sample at a given Q.\n",
    "        criterion = np.random.random(size=samples)\n",
    "        accepted = criterion < r\n",
    "\n",
    "        # implement wavelength smearing from choppers\n",
    "        # factor of 0.68 is used to convert from FWHM-Gaussian to\n",
    "        # full-width-Uniform\n",
    "        noise = np.random.random(size=samples) - 0.5\n",
    "        jittered_wavelengths = wavelengths * (1 + \n",
    "                                              self.dlambda / 0.68 * noise)\n",
    "\n",
    "        # update direct and reflected beam counts. Rebin smearing\n",
    "        # is taken into account due to the finite size of the wavelength\n",
    "        # bins.\n",
    "        hist = np.histogram(jittered_wavelengths,\n",
    "                            self.wavelength_bins)\n",
    "\n",
    "        self.direct_beam += hist[0]\n",
    "        \n",
    "        hist = np.histogram(jittered_wavelengths[accepted],\n",
    "                            self.wavelength_bins)\n",
    "        self.reflected_beam += hist[0]\n",
    "\n",
    "    @property\n",
    "    def reflectivity(self):\n",
    "        \"\"\"\n",
    "        The reflectivity of the sampled system\n",
    "        \"\"\"\n",
    "        rerr = np.sqrt(self.reflected_beam)\n",
    "        ierr = np.sqrt(self.direct_beam)\n",
    "        dx = np.sqrt((self.dlambda)**2 + self.dtheta**2 + self.rebin**2)\n",
    "        \n",
    "        ref, rerr = ErrorProp.EPdiv(self.reflected_beam, rerr,\n",
    "                                    self.direct_beam, ierr)\n",
    "        dataset = ReflectDataset(data=(self.q, ref, rerr, dx * self.q))\n",
    "        return dataset"
   ]
  },
  {
   "cell_type": "markdown",
   "metadata": {},
   "source": [
    "Generate the structure you want to simulate:"
   ]
  },
  {
   "cell_type": "code",
   "execution_count": 5,
   "metadata": {},
   "outputs": [],
   "source": [
    "air = SLD(0)\n",
    "sio2 = SLD(3.47)\n",
    "si = SLD(2.07)\n",
    "\n",
    "s = air | sio2(225, 3) | si(0, 3)\n",
    "model = ReflectModel(s, bkg=5e-7)"
   ]
  },
  {
   "cell_type": "markdown",
   "metadata": {},
   "source": [
    "Create the instrument simulator and sample. Here we sample at two angles of incidence. This would correspond to *roughly* 1200 s and 3600 s on Platypus. It's possible that the acquisition time/# of samples correspondence is up to an order of magnitude out."
   ]
  },
  {
   "cell_type": "code",
   "execution_count": 7,
   "metadata": {},
   "outputs": [],
   "source": [
    "simulator0 = ReflectSimulator(model, 0.65, rebin=2)\n",
    "simulator1 = ReflectSimulator(model, 3, rebin=2)"
   ]
  },
  {
   "cell_type": "code",
   "execution_count": 8,
   "metadata": {},
   "outputs": [],
   "source": [
    "simulator0.run(2400000)\n",
    "simulator1.run(150000000)"
   ]
  },
  {
   "cell_type": "markdown",
   "metadata": {},
   "source": [
    "The `ReflectSimulator.reflectivity` attribute is a `ReflectDataset`, which can have additional data spliced onto it."
   ]
  },
  {
   "cell_type": "code",
   "execution_count": 9,
   "metadata": {},
   "outputs": [],
   "source": [
    "data = ReflectDataset()\n",
    "data += simulator0.reflectivity\n",
    "data += simulator1.reflectivity\n",
    "data.save('sim.txt')"
   ]
  },
  {
   "cell_type": "code",
   "execution_count": 37,
   "metadata": {},
   "outputs": [
    {
     "data": {
      "image/png": "[encoded data removed]",
      "text/plain": [
       "<Figure size 432x288 with 1 Axes>"
      ]
     },
     "metadata": {
      "needs_background": "light"
     },
     "output_type": "display_data"
    }
   ],
   "source": [
    "ebc = plt.errorbar(data.x, data.y, yerr=data.y_err)\n",
    "ebc[0].set_linewidth(0)\n",
    "plt.plot(data.x, model(data.x, x_err=data.x_err))\n",
    "plt.yscale('log')"
   ]
  },
  {
   "cell_type": "code",
   "execution_count": null,
   "metadata": {},
   "outputs": [],
   "source": []
  }
 ],
 "metadata": {
  "kernelspec": {
   "display_name": "Python 3",
   "language": "python",
   "name": "python3"
  },
  "language_info": {
   "codemirror_mode": {
    "name": "ipython",
    "version": 3
   },
   "file_extension": ".py",
   "mimetype": "text/x-python",
   "name": "python",
   "nbconvert_exporter": "python",
   "pygments_lexer": "ipython3",
   "version": "3.7.3"
  }
 },
 "nbformat": 4,
 "nbformat_minor": 1
}
