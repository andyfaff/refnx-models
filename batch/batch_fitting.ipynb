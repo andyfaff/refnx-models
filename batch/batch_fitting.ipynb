{
 "cells": [
  {
   "cell_type": "markdown",
   "metadata": {},
   "source": [
    "# Batchfitting of multiple datasets"
   ]
  },
  {
   "cell_type": "code",
   "execution_count": null,
   "metadata": {},
   "outputs": [],
   "source": [
    "%matplotlib notebook\n",
    "import matplotlib.pyplot as plt\n",
    "from multiprocessing import Pool"
   ]
  },
  {
   "cell_type": "code",
   "execution_count": null,
   "metadata": {},
   "outputs": [],
   "source": [
    "from copy import deepcopy\n",
    "import glob\n",
    "from natsort import natsorted\n",
    "\n",
    "import numpy as np\n",
    "import refnx\n",
    "from refnx.dataset import Data1D\n",
    "from refnx.analysis import Objective, CurveFitter\n",
    "from refnx.reflect import SLD, Slab, ReflectModel, Structure\n",
    "from refnx.dataset import ReflectDataset\n",
    "\n",
    "print(refnx.version.version)\n",
    "\n",
    "# natsort is used for alphanumeric sort\n",
    "files = natsorted(list(glob.iglob('./*.dat')))\n",
    "\n",
    "\"\"\"\n",
    "initial model setup\n",
    "\"\"\"\n",
    "# set up the SLD objects for each layer\n",
    "sld0 = SLD(0.0 + 0.0j, name='')\n",
    "sld1 = SLD(6.14127029941648 + 0.0j, name='')\n",
    "sld2 = SLD(3.47 + 0.0j, name='')\n",
    "sld3 = SLD(2.07 + 0.0j, name='')\n",
    "\n",
    "# set up the Slab objects for each layer\n",
    "slab0 = Slab(0.0, sld0, 0.0, name='')\n",
    "slab1 = Slab(520.5277261491321, sld1, 8.762992087388763, name='')\n",
    "slab2 = Slab(15.305814908968332, sld2, 5.020239736927396, name='')\n",
    "slab3 = Slab(0.0, sld3, 3.0, name='')\n",
    "\n",
    "# set up the limits for SLD's and Slabs\n",
    "sld1.real.setp(vary=True, bounds=(0, 7.0))\n",
    "slab1.thick.setp(vary=True, bounds=(200, 1020.0))\n",
    "slab1.rough.setp(vary=True, bounds=(2.0, 20.0))\n",
    "slab2.thick.setp(vary=True, bounds=(5.0, 10.0))\n",
    "slab2.rough.setp(vary=True, bounds=(2.0, 10.0))\n",
    "\n",
    "# set up the Structure object from the Slabs\n",
    "structure = slab0 | slab1 | slab2 | slab3\n",
    "\n",
    "# make the reflectometry model\n",
    "model = ReflectModel(structure, scale=1.0, bkg=1e-10, dq=8.0)\n",
    "model.scale.setp(vary=True, bounds=(0.5, 1.5))\n",
    "model.bkg.setp(vary=True, bounds=(1e-10, 1e-5))\n",
    "\n",
    "\"\"\"\n",
    "Now do the fit\n",
    "\"\"\"\n",
    "filenames = []\n",
    "models = []\n",
    "objectives = []\n",
    "\n",
    "for idx, file in enumerate(files):\n",
    "    data = Data1D(data=file)\n",
    "\n",
    "    # make the objective\n",
    "    objective = Objective(deepcopy(model), data)\n",
    "\n",
    "    filenames.append(data.filename)\n",
    "    models.append(objective.model)\n",
    "    objectives.append(objective)"
   ]
  },
  {
   "cell_type": "code",
   "execution_count": null,
   "metadata": {},
   "outputs": [],
   "source": [
    "# lets do the analysis in parallel. The order shouldn't\n",
    "# matter because we use differential evolution\n",
    "def fun(objective):\n",
    "    # make the curvefitter and do the fit\n",
    "    fitter = CurveFitter(objective)\n",
    "    fitter.fit('differential_evolution')\n",
    "    return objective"
   ]
  },
  {
   "cell_type": "code",
   "execution_count": null,
   "metadata": {},
   "outputs": [],
   "source": [
    "with Pool(4) as p:\n",
    "    l = list(p.map(fun, objectives))"
   ]
  },
  {
   "cell_type": "code",
   "execution_count": null,
   "metadata": {},
   "outputs": [],
   "source": [
    "thickness = []\n",
    "sld = []\n",
    "for objective in l:\n",
    "    model = objective.model\n",
    "    thickness.append(model.structure[1].thick.value)\n",
    "    sld.append(model.structure[1].sld.real.value)\n",
    "\n",
    "fig, ax1 = plt.subplots()\n",
    "ax1.set_xlabel('dataset')\n",
    "ax1.set_ylabel('thickness (A)')\n",
    "ax1.plot(thickness, 'b')\n",
    "ax2 = ax1.twinx()\n",
    "ax2.plot(sld, 'r')\n",
    "ax2.set_ylabel('SLD');"
   ]
  },
  {
   "cell_type": "code",
   "execution_count": null,
   "metadata": {},
   "outputs": [],
   "source": []
  }
 ],
 "metadata": {
  "kernelspec": {
   "display_name": "Python 3",
   "language": "python",
   "name": "python3"
  },
  "language_info": {
   "codemirror_mode": {
    "name": "ipython",
    "version": 3
   },
   "file_extension": ".py",
   "mimetype": "text/x-python",
   "name": "python",
   "nbconvert_exporter": "python",
   "pygments_lexer": "ipython3",
   "version": "3.7.0"
  }
 },
 "nbformat": 4,
 "nbformat_minor": 2
}
